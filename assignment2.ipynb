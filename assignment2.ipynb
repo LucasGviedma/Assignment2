{
 "cells": [
  {
   "cell_type": "code",
   "execution_count": 71,
   "metadata": {},
   "outputs": [],
   "source": [
    "import pandas as pd\n",
    "import numpy  as np\n",
    "\n",
    "from scipy   import sparse\n",
    "from sklearn.feature_extraction.text import TfidfVectorizer\n",
    "\n",
    "from nltk import *\n",
    "from adarank import AdaRank"
   ]
  },
  {
   "cell_type": "code",
   "execution_count": 72,
   "metadata": {},
   "outputs": [],
   "source": [
    "def process(text):\n",
    "    text = text.lower()\n",
    "    text = text.replace('ser ' , 'serum')\n",
    "    text = text.replace('plas ', 'plasma')\n",
    "    text = text.replace('bld ' , 'blood')\n",
    "    text = text.replace('fld ' , 'fluid')\n",
    "    text = text.replace('synv ', 'synovial')\n",
    "    text = text.replace('plr ' , 'pleural')\n",
    "    text = text.replace('bpu ' , 'blood product unit')\n",
    "    text = [word for word in text.split() if word not in corpus.stopwords.words('english')]\n",
    "    return ' '.join([word for word in text])"
   ]
  },
  {
   "cell_type": "code",
   "execution_count": 73,
   "metadata": {},
   "outputs": [
    {
     "name": "stdout",
     "output_type": "stream",
     "text": [
      "(201, 8)\n"
     ]
    },
    {
     "data": {
      "text/html": [
       "<div>\n",
       "<style scoped>\n",
       "    .dataframe tbody tr th:only-of-type {\n",
       "        vertical-align: middle;\n",
       "    }\n",
       "\n",
       "    .dataframe tbody tr th {\n",
       "        vertical-align: top;\n",
       "    }\n",
       "\n",
       "    .dataframe thead th {\n",
       "        text-align: right;\n",
       "    }\n",
       "</style>\n",
       "<table border=\"1\" class=\"dataframe\">\n",
       "  <thead>\n",
       "    <tr style=\"text-align: right;\">\n",
       "      <th></th>\n",
       "      <th>Query id</th>\n",
       "      <th>loinc_num</th>\n",
       "      <th>f0</th>\n",
       "      <th>f1</th>\n",
       "      <th>f2</th>\n",
       "      <th>f3</th>\n",
       "      <th>Y</th>\n",
       "      <th>id</th>\n",
       "    </tr>\n",
       "  </thead>\n",
       "  <tbody>\n",
       "    <tr>\n",
       "      <th>0</th>\n",
       "      <td>1</td>\n",
       "      <td>1003-3</td>\n",
       "      <td>Indirect antiglobulin test complement specific...</td>\n",
       "      <td>Indirect antiglobulin test complement specific...</td>\n",
       "      <td>Ser / Plas</td>\n",
       "      <td>ACnc</td>\n",
       "      <td>30</td>\n",
       "      <td>1</td>\n",
       "    </tr>\n",
       "    <tr>\n",
       "      <th>1</th>\n",
       "      <td>1</td>\n",
       "      <td>10331-7</td>\n",
       "      <td>Rh Type in Blood</td>\n",
       "      <td>Rh</td>\n",
       "      <td>Bld</td>\n",
       "      <td>Type</td>\n",
       "      <td>17</td>\n",
       "      <td>2</td>\n",
       "    </tr>\n",
       "    <tr>\n",
       "      <th>2</th>\n",
       "      <td>1</td>\n",
       "      <td>1250-0</td>\n",
       "      <td>Major crossmatch interpretation</td>\n",
       "      <td>Major crossmatch</td>\n",
       "      <td>Ser / Plas</td>\n",
       "      <td>Imp</td>\n",
       "      <td>33</td>\n",
       "      <td>3</td>\n",
       "    </tr>\n",
       "    <tr>\n",
       "      <th>3</th>\n",
       "      <td>1</td>\n",
       "      <td>13317-3</td>\n",
       "      <td>Methicillin resistant Staphylococcus aureus Pr...</td>\n",
       "      <td>Staphylococcus aureus methicillin resistant is...</td>\n",
       "      <td>XXX</td>\n",
       "      <td>ACnc</td>\n",
       "      <td>56</td>\n",
       "      <td>4</td>\n",
       "    </tr>\n",
       "    <tr>\n",
       "      <th>4</th>\n",
       "      <td>1</td>\n",
       "      <td>14423-8</td>\n",
       "      <td>Bilirubin total Mass / volume in Synovial fluid</td>\n",
       "      <td>Bilirubin</td>\n",
       "      <td>Synv fld</td>\n",
       "      <td>MCnc</td>\n",
       "      <td>58</td>\n",
       "      <td>5</td>\n",
       "    </tr>\n",
       "    <tr>\n",
       "      <th>...</th>\n",
       "      <td>...</td>\n",
       "      <td>...</td>\n",
       "      <td>...</td>\n",
       "      <td>...</td>\n",
       "      <td>...</td>\n",
       "      <td>...</td>\n",
       "      <td>...</td>\n",
       "      <td>...</td>\n",
       "    </tr>\n",
       "    <tr>\n",
       "      <th>95</th>\n",
       "      <td>2</td>\n",
       "      <td>1975-2</td>\n",
       "      <td>Bilirubin total Mass / volume in Serum or Plasma</td>\n",
       "      <td>Bilirubin</td>\n",
       "      <td>Ser / Plas</td>\n",
       "      <td>MCnc</td>\n",
       "      <td>1</td>\n",
       "      <td>29</td>\n",
       "    </tr>\n",
       "    <tr>\n",
       "      <th>96</th>\n",
       "      <td>2</td>\n",
       "      <td>1988-5</td>\n",
       "      <td>C reactive protein Mass / volume in Serum or P...</td>\n",
       "      <td>C reactive protein</td>\n",
       "      <td>Ser / Plas</td>\n",
       "      <td>MCnc</td>\n",
       "      <td>36</td>\n",
       "      <td>30</td>\n",
       "    </tr>\n",
       "    <tr>\n",
       "      <th>97</th>\n",
       "      <td>2</td>\n",
       "      <td>1994-3</td>\n",
       "      <td>Calcium ionized Moles / volume in Blood</td>\n",
       "      <td>Calcium ionized</td>\n",
       "      <td>Bld</td>\n",
       "      <td>SCnc</td>\n",
       "      <td>41</td>\n",
       "      <td>31</td>\n",
       "    </tr>\n",
       "    <tr>\n",
       "      <th>98</th>\n",
       "      <td>2</td>\n",
       "      <td>1995-0</td>\n",
       "      <td>Calcium ionized Moles / volume in Serum or Plasma</td>\n",
       "      <td>Calcium ionized</td>\n",
       "      <td>Ser / Plas</td>\n",
       "      <td>SCnc</td>\n",
       "      <td>35</td>\n",
       "      <td>32</td>\n",
       "    </tr>\n",
       "    <tr>\n",
       "      <th>99</th>\n",
       "      <td>2</td>\n",
       "      <td>2028-9</td>\n",
       "      <td>Carbon dioxide, total Moles / volume in Serum ...</td>\n",
       "      <td>Carbon dioxide</td>\n",
       "      <td>Ser / Plas</td>\n",
       "      <td>SCnc</td>\n",
       "      <td>15</td>\n",
       "      <td>33</td>\n",
       "    </tr>\n",
       "  </tbody>\n",
       "</table>\n",
       "<p>100 rows × 8 columns</p>\n",
       "</div>"
      ],
      "text/plain": [
       "    Query id loinc_num                                                 f0  \\\n",
       "0          1    1003-3  Indirect antiglobulin test complement specific...   \n",
       "1          1   10331-7                                   Rh Type in Blood   \n",
       "2          1    1250-0                   Major crossmatch interpretation    \n",
       "3          1   13317-3  Methicillin resistant Staphylococcus aureus Pr...   \n",
       "4          1   14423-8    Bilirubin total Mass / volume in Synovial fluid   \n",
       "..       ...       ...                                                ...   \n",
       "95         2    1975-2   Bilirubin total Mass / volume in Serum or Plasma   \n",
       "96         2    1988-5  C reactive protein Mass / volume in Serum or P...   \n",
       "97         2    1994-3            Calcium ionized Moles / volume in Blood   \n",
       "98         2    1995-0  Calcium ionized Moles / volume in Serum or Plasma   \n",
       "99         2    2028-9  Carbon dioxide, total Moles / volume in Serum ...   \n",
       "\n",
       "                                                   f1          f2    f3   Y  \\\n",
       "0   Indirect antiglobulin test complement specific...  Ser / Plas  ACnc  30   \n",
       "1                                                  Rh         Bld  Type  17   \n",
       "2                                    Major crossmatch  Ser / Plas   Imp  33   \n",
       "3   Staphylococcus aureus methicillin resistant is...         XXX  ACnc  56   \n",
       "4                                           Bilirubin    Synv fld  MCnc  58   \n",
       "..                                                ...         ...   ...  ..   \n",
       "95                                          Bilirubin  Ser / Plas  MCnc   1   \n",
       "96                                 C reactive protein  Ser / Plas  MCnc  36   \n",
       "97                                    Calcium ionized         Bld  SCnc  41   \n",
       "98                                    Calcium ionized  Ser / Plas  SCnc  35   \n",
       "99                                     Carbon dioxide  Ser / Plas  SCnc  15   \n",
       "\n",
       "    id  \n",
       "0    1  \n",
       "1    2  \n",
       "2    3  \n",
       "3    4  \n",
       "4    5  \n",
       "..  ..  \n",
       "95  29  \n",
       "96  30  \n",
       "97  31  \n",
       "98  32  \n",
       "99  33  \n",
       "\n",
       "[100 rows x 8 columns]"
      ]
     },
     "execution_count": 73,
     "metadata": {},
     "output_type": "execute_result"
    }
   ],
   "source": [
    "queries = [\"glucose in blood\", \"bilirubin in plasma\", \"white blood cells count\"]\n",
    "\n",
    "df = pd.read_excel(\"base_data.xlsx\")\n",
    "print(df.shape)\n",
    "df.head(100)"
   ]
  },
  {
   "cell_type": "code",
   "execution_count": 74,
   "metadata": {},
   "outputs": [
    {
     "data": {
      "text/html": [
       "<div>\n",
       "<style scoped>\n",
       "    .dataframe tbody tr th:only-of-type {\n",
       "        vertical-align: middle;\n",
       "    }\n",
       "\n",
       "    .dataframe tbody tr th {\n",
       "        vertical-align: top;\n",
       "    }\n",
       "\n",
       "    .dataframe thead th {\n",
       "        text-align: right;\n",
       "    }\n",
       "</style>\n",
       "<table border=\"1\" class=\"dataframe\">\n",
       "  <thead>\n",
       "    <tr style=\"text-align: right;\">\n",
       "      <th></th>\n",
       "      <th>Query id</th>\n",
       "      <th>loinc_num</th>\n",
       "      <th>f0</th>\n",
       "      <th>f1</th>\n",
       "      <th>f2</th>\n",
       "      <th>f3</th>\n",
       "      <th>Y</th>\n",
       "      <th>id</th>\n",
       "    </tr>\n",
       "  </thead>\n",
       "  <tbody>\n",
       "    <tr>\n",
       "      <th>0</th>\n",
       "      <td>1</td>\n",
       "      <td>1003-3</td>\n",
       "      <td>indirect antiglobulin test complement specific...</td>\n",
       "      <td>indirect antiglobulin test complement specific...</td>\n",
       "      <td>serum/ plas</td>\n",
       "      <td>acnc</td>\n",
       "      <td>30</td>\n",
       "      <td>1</td>\n",
       "    </tr>\n",
       "    <tr>\n",
       "      <th>1</th>\n",
       "      <td>1</td>\n",
       "      <td>10331-7</td>\n",
       "      <td>rh type blood</td>\n",
       "      <td>rh</td>\n",
       "      <td>bld</td>\n",
       "      <td>type</td>\n",
       "      <td>17</td>\n",
       "      <td>2</td>\n",
       "    </tr>\n",
       "    <tr>\n",
       "      <th>2</th>\n",
       "      <td>1</td>\n",
       "      <td>1250-0</td>\n",
       "      <td>major crossmatch interpretation</td>\n",
       "      <td>major crossmatch</td>\n",
       "      <td>serum/ plas</td>\n",
       "      <td>imp</td>\n",
       "      <td>33</td>\n",
       "      <td>3</td>\n",
       "    </tr>\n",
       "    <tr>\n",
       "      <th>3</th>\n",
       "      <td>1</td>\n",
       "      <td>13317-3</td>\n",
       "      <td>methicillin resistant staphylococcus aureus pr...</td>\n",
       "      <td>staphylococcus aureus methicillin resistant is...</td>\n",
       "      <td>xxx</td>\n",
       "      <td>acnc</td>\n",
       "      <td>56</td>\n",
       "      <td>4</td>\n",
       "    </tr>\n",
       "    <tr>\n",
       "      <th>4</th>\n",
       "      <td>1</td>\n",
       "      <td>14423-8</td>\n",
       "      <td>bilirubin total mass / volume synovial fluid</td>\n",
       "      <td>bilirubin</td>\n",
       "      <td>synovialfld</td>\n",
       "      <td>mcnc</td>\n",
       "      <td>58</td>\n",
       "      <td>5</td>\n",
       "    </tr>\n",
       "  </tbody>\n",
       "</table>\n",
       "</div>"
      ],
      "text/plain": [
       "   Query id loinc_num                                                 f0  \\\n",
       "0         1    1003-3  indirect antiglobulin test complement specific...   \n",
       "1         1   10331-7                                      rh type blood   \n",
       "2         1    1250-0                    major crossmatch interpretation   \n",
       "3         1   13317-3  methicillin resistant staphylococcus aureus pr...   \n",
       "4         1   14423-8       bilirubin total mass / volume synovial fluid   \n",
       "\n",
       "                                                  f1           f2    f3   Y  \\\n",
       "0  indirect antiglobulin test complement specific...  serum/ plas  acnc  30   \n",
       "1                                                 rh          bld  type  17   \n",
       "2                                   major crossmatch  serum/ plas   imp  33   \n",
       "3  staphylococcus aureus methicillin resistant is...          xxx  acnc  56   \n",
       "4                                          bilirubin  synovialfld  mcnc  58   \n",
       "\n",
       "   id  \n",
       "0   1  \n",
       "1   2  \n",
       "2   3  \n",
       "3   4  \n",
       "4   5  "
      ]
     },
     "execution_count": 74,
     "metadata": {},
     "output_type": "execute_result"
    }
   ],
   "source": [
    "df['f0'] = df['f0'].apply(lambda f: process(f))\n",
    "df['f1'] = df['f1'].apply(lambda f: process(f))\n",
    "df['f2'] = df['f2'].apply(lambda f: process(f))\n",
    "df['f3'] = df['f3'].apply(lambda f: process(f))\n",
    "df.head()"
   ]
  },
  {
   "cell_type": "code",
   "execution_count": 75,
   "metadata": {},
   "outputs": [],
   "source": [
    "def get_l_norm(doc, query_word_ids):\n",
    "    doc_l_norm = 0\n",
    "    \n",
    "    for word_id in query_word_ids:\n",
    "        word_tfidf  = doc[(0,word_id)]\n",
    "        doc_l_norm += pow(word_tfidf,2)\n",
    "        \n",
    "    doc_l_norm = np.sqrt(doc_l_norm)\n",
    "    return doc_l_norm\n",
    "\n",
    "def normalize_vector(doc, query_word_ids):\n",
    "    l_norm = get_l_norm(doc, query_word_ids)\n",
    "\n",
    "    return [doc[(0,word_id)] / l_norm if l_norm else 0 for word_id in query_word_ids]\n",
    "\n",
    "def get_doc_cos_score(doc, query):\n",
    "    return sum([doc[i] * query[i] for i in range(len(doc))]) "
   ]
  },
  {
   "cell_type": "code",
   "execution_count": 76,
   "metadata": {},
   "outputs": [
    {
     "name": "stdout",
     "output_type": "stream",
     "text": [
      "     Query id loinc_num        f0   f1   f2 f3   Y  id     score\n",
      "122         2   35192-4       1.0  1.0  0.0  0   3  56  2.000000\n",
      "93          2    1968-7       1.0  1.0  0.0  0   2  27  2.000000\n",
      "94          2    1971-1       1.0  1.0  0.0  0   4  28  2.000000\n",
      "95          2    1975-2       1.0  1.0  0.0  0   1  29  2.000000\n",
      "120         2   33870-7  0.881473  1.0  0.0  0   7  54  1.881473\n",
      "..        ...       ...       ...  ...  ... ..  ..  ..       ...\n",
      "114         2   26478-8       0.0  0.0  0.0  0  46  48  0.000000\n",
      "113         2   26474-7       0.0  0.0  0.0  0  45  47  0.000000\n",
      "112         2   26464-8       0.0  0.0  0.0  0  40  46  0.000000\n",
      "111         2   23658-8       0.0  0.0  0.0  0  63  45  0.000000\n",
      "109         2    2132-9       0.0  0.0  0.0  0  51  43  0.000000\n",
      "\n",
      "[67 rows x 9 columns]\n"
     ]
    }
   ],
   "source": [
    "for i in range(1, len(queries) + 1):\n",
    "\n",
    "    query = queries[i-1]\n",
    "\n",
    "    tfidf_f0 = TfidfVectorizer()\n",
    "    tfidf_f1 = TfidfVectorizer()\n",
    "    tfidf_f2 = TfidfVectorizer()\n",
    "    tfidf_f3 = TfidfVectorizer()\n",
    "\n",
    "    vectorized_f0 = tfidf_f0.fit_transform(df[df[\"Query id\"] == i]['f0'])\n",
    "    vectorized_f1 = tfidf_f1.fit_transform(df[df[\"Query id\"] == i]['f1'])\n",
    "    vectorized_f2 = tfidf_f2.fit_transform(df[df[\"Query id\"] == i]['f2'])\n",
    "    vectorized_f3 = tfidf_f3.fit_transform(df[df[\"Query id\"] == i]['f3'])\n",
    "\n",
    "    vectorized_features = [vectorized_f0, vectorized_f1, vectorized_f2, vectorized_f3]\n",
    "\n",
    "    query_f0 = tfidf_f0.transform([query])\n",
    "    query_f1 = tfidf_f1.transform([query])\n",
    "    query_f2 = tfidf_f2.transform([query])\n",
    "    query_f3 = tfidf_f3.transform([query])\n",
    "\n",
    "    vectorized_query_per_feature = [query_f0, query_f1, query_f2, query_f3]\n",
    "\n",
    "    for vectorized_feature, feature_vectorized_query, feature_id in zip(vectorized_features, vectorized_query_per_feature, [\"f0\",\"f1\",\"f2\",\"f3\"]):\n",
    "        query_word_ids   = feature_vectorized_query.indices\n",
    "        norm_query       = normalize_vector(feature_vectorized_query, query_word_ids)\n",
    "        documents_scores = [get_doc_cos_score(normalize_vector(vectorized_feature[doc_id], query_word_ids), norm_query) for doc_id in range(0,vectorized_features[0].shape[0])]\n",
    "        \n",
    "        df.loc[df[\"Query id\"] == i, feature_id] = documents_scores\n",
    "        \n",
    "    df['score'] = df.apply(lambda x: x['f0'] + x['f1'] + x['f2'] + x['f3'], axis=1)\n",
    "\n",
    "a = df.sort_values(by='score', ascending=False)\n",
    "print(a[a['Query id'] == 2].head(67))\n",
    "#df.head()"
   ]
  },
  {
   "cell_type": "code",
   "execution_count": 77,
   "metadata": {},
   "outputs": [
    {
     "data": {
      "text/plain": [
       "Query id       int64\n",
       "loinc_num     object\n",
       "f0           float64\n",
       "f1           float64\n",
       "f2             int64\n",
       "f3             int64\n",
       "Y              int64\n",
       "id             int64\n",
       "score        float64\n",
       "dtype: object"
      ]
     },
     "execution_count": 77,
     "metadata": {},
     "output_type": "execute_result"
    }
   ],
   "source": [
    "df[\"f0\"] = pd.to_numeric(df[\"f0\"])\n",
    "df[\"f1\"] = pd.to_numeric(df[\"f1\"])\n",
    "df[\"f2\"] = pd.to_numeric(df[\"f2\"])\n",
    "df[\"f3\"] = pd.to_numeric(df[\"f3\"])\n",
    "df.dtypes"
   ]
  },
  {
   "cell_type": "code",
   "execution_count": 78,
   "metadata": {},
   "outputs": [],
   "source": [
    "from sklearn.model_selection import train_test_split\n",
    "\n",
    "x1, x1_te, y1, y1_te =  train_test_split(df[df[\"Query id\"]==1][[\"f0\", \"f1\", \"f2\", \"f3\"]], df[df[\"Query id\"]==1][\"Y\"], test_size = .15)\n",
    "x2, x2_te, y2, y2_te =  train_test_split(df[df[\"Query id\"]==2][[\"f0\", \"f1\", \"f2\", \"f3\"]], df[df[\"Query id\"]==2][\"Y\"], test_size = .15)\n",
    "x3, x3_te, y3, y3_te =  train_test_split(df[df[\"Query id\"]==3][[\"f0\", \"f1\", \"f2\", \"f3\"]], df[df[\"Query id\"]==3][\"Y\"], test_size = .15)\n"
   ]
  },
  {
   "cell_type": "code",
   "execution_count": 79,
   "metadata": {},
   "outputs": [
    {
     "name": "stderr",
     "output_type": "stream",
     "text": [
      "C:\\Users\\Lucas\\AppData\\Local\\Temp\\ipykernel_10008\\2669419340.py:1: FutureWarning: The frame.append method is deprecated and will be removed from pandas in a future version. Use pandas.concat instead.\n",
      "  x = x1.append(x2).append(x3)\n",
      "C:\\Users\\Lucas\\AppData\\Local\\Temp\\ipykernel_10008\\2669419340.py:1: FutureWarning: The frame.append method is deprecated and will be removed from pandas in a future version. Use pandas.concat instead.\n",
      "  x = x1.append(x2).append(x3)\n",
      "C:\\Users\\Lucas\\AppData\\Local\\Temp\\ipykernel_10008\\2669419340.py:2: FutureWarning: The frame.append method is deprecated and will be removed from pandas in a future version. Use pandas.concat instead.\n",
      "  x_te = x1_te.append(x2_te).append(x3_te)\n",
      "C:\\Users\\Lucas\\AppData\\Local\\Temp\\ipykernel_10008\\2669419340.py:2: FutureWarning: The frame.append method is deprecated and will be removed from pandas in a future version. Use pandas.concat instead.\n",
      "  x_te = x1_te.append(x2_te).append(x3_te)\n",
      "C:\\Users\\Lucas\\AppData\\Local\\Temp\\ipykernel_10008\\2669419340.py:3: FutureWarning: The series.append method is deprecated and will be removed from pandas in a future version. Use pandas.concat instead.\n",
      "  y = y1.append(y2).append(y3)\n",
      "C:\\Users\\Lucas\\AppData\\Local\\Temp\\ipykernel_10008\\2669419340.py:3: FutureWarning: The series.append method is deprecated and will be removed from pandas in a future version. Use pandas.concat instead.\n",
      "  y = y1.append(y2).append(y3)\n",
      "C:\\Users\\Lucas\\AppData\\Local\\Temp\\ipykernel_10008\\2669419340.py:4: FutureWarning: The series.append method is deprecated and will be removed from pandas in a future version. Use pandas.concat instead.\n",
      "  y_te = y1_te.append(y2_te).append(y3_te)\n",
      "C:\\Users\\Lucas\\AppData\\Local\\Temp\\ipykernel_10008\\2669419340.py:4: FutureWarning: The series.append method is deprecated and will be removed from pandas in a future version. Use pandas.concat instead.\n",
      "  y_te = y1_te.append(y2_te).append(y3_te)\n"
     ]
    }
   ],
   "source": [
    "x = x1.append(x2).append(x3)\n",
    "x_te = x1_te.append(x2_te).append(x3_te)\n",
    "y = y1.append(y2).append(y3)\n",
    "y_te = y1_te.append(y2_te).append(y3_te)"
   ]
  },
  {
   "cell_type": "code",
   "execution_count": 80,
   "metadata": {},
   "outputs": [],
   "source": [
    "qid = np.array([1]*len(x1) + [2]*len(x2) + [3]*len(x3))\n",
    "y   = np.array(y)\n",
    "x   = sparse.csr_matrix(np.array(x)) "
   ]
  },
  {
   "cell_type": "code",
   "execution_count": 81,
   "metadata": {},
   "outputs": [
    {
     "name": "stdout",
     "output_type": "stream",
     "text": [
      "(168, 4) 168 168\n"
     ]
    }
   ],
   "source": [
    "print(x.shape, len(y), len(qid))"
   ]
  },
  {
   "cell_type": "code",
   "execution_count": 82,
   "metadata": {},
   "outputs": [
    {
     "name": "stdout",
     "output_type": "stream",
     "text": [
      "[4.09513064e-13 3.77610221e-09 4.75488626e-05]\n",
      "[1.10546449e-07 8.20702721e-03 2.65471464e-02]\n",
      "[0.07757165 0.51691739 0.24096337]\n",
      "[0.07757165 0.80689409 0.24096337]\n",
      "b {'fid': 3, 'score': array([0.07757165, 0.80689409, 0.24096337])}\n",
      "a [0.         0.         0.         0.39439513]\n",
      "b {'fid': 3, 'score': array([0.07757165, 0.80689409, 0.24096337])}\n"
     ]
    },
    {
     "name": "stderr",
     "output_type": "stream",
     "text": [
      "1\t0.3943951297014576\t3\t[0.07757165 0.80689409 0.24096337]\ttrain 0.3751\tvalid 0.3751\n",
      "2\t0.2963159960532612\t3\t[0.07757165 0.80689409 0.24096337]\ttrain 0.3751\tvalid 0.3751\n"
     ]
    },
    {
     "data": {
      "text/plain": [
       "AdaRank(scorer=<metrics.NDCGScorer object at 0x00000176C63F49D0>, verbose=True)"
      ]
     },
     "execution_count": 82,
     "metadata": {},
     "output_type": "execute_result"
    }
   ],
   "source": [
    "model = AdaRank(verbose=True)\n",
    "model.fit(x,y,qid)"
   ]
  },
  {
   "cell_type": "code",
   "execution_count": 86,
   "metadata": {},
   "outputs": [
    {
     "name": "stdout",
     "output_type": "stream",
     "text": [
      "[0.         0.         0.         0.39439513]\n"
     ]
    }
   ],
   "source": [
    "qid_t = np.array([1]*len(x1_te) + [2]*len(x2_te) + [3]*len(x3_te))\n",
    "pred = model.predict(x,1) # sparse.csr_matrix(np.array(x_te))"
   ]
  },
  {
   "cell_type": "code",
   "execution_count": 84,
   "metadata": {},
   "outputs": [
    {
     "data": {
      "text/plain": [
       "array([0., 0., 0., 0., 0., 0., 0., 0., 0., 0., 0., 0., 0., 0., 0., 0., 0.,\n",
       "       0., 0., 0., 0., 0., 0., 0., 0., 0., 0., 0., 0., 0., 0., 0., 0., 0.,\n",
       "       0., 0., 0., 0., 0., 0., 0., 0., 0., 0., 0., 0., 0., 0., 0., 0., 0.,\n",
       "       0., 0., 0., 0., 0., 0., 0., 0., 0., 0., 0., 0., 0., 0., 0., 0., 0.,\n",
       "       0., 0., 0., 0., 0., 0., 0., 0., 0., 0., 0., 0., 0., 0., 0., 0., 0.,\n",
       "       0., 0., 0., 0., 0., 0., 0., 0., 0., 0., 0., 0., 0., 0., 0., 0., 0.,\n",
       "       0., 0., 0., 0., 0., 0., 0., 0., 0., 0., 0., 0., 0., 0., 0., 0., 0.,\n",
       "       0., 0., 0., 0., 0., 0., 0., 0., 0., 0., 0., 0., 0., 0., 0., 0., 0.,\n",
       "       0., 0., 0., 0., 0., 0., 0., 0., 0., 0., 0., 0., 0., 0., 0., 0., 0.,\n",
       "       0., 0., 0., 0., 0., 0., 0., 0., 0., 0., 0., 0., 0., 0., 0.])"
      ]
     },
     "execution_count": 84,
     "metadata": {},
     "output_type": "execute_result"
    }
   ],
   "source": [
    "pred"
   ]
  }
 ],
 "metadata": {
  "interpreter": {
   "hash": "e1b2a8d64108191b5344c9ef157fce075759b55ed5353a43c30a4151c87eade3"
  },
  "kernelspec": {
   "display_name": "Python 3.9.7 ('venv': venv)",
   "language": "python",
   "name": "python3"
  },
  "language_info": {
   "codemirror_mode": {
    "name": "ipython",
    "version": 3
   },
   "file_extension": ".py",
   "mimetype": "text/x-python",
   "name": "python",
   "nbconvert_exporter": "python",
   "pygments_lexer": "ipython3",
   "version": "3.9.7"
  },
  "orig_nbformat": 4
 },
 "nbformat": 4,
 "nbformat_minor": 2
}
